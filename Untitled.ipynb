{
 "cells": [
  {
   "cell_type": "code",
   "execution_count": 3,
   "id": "f84e0bbb-2c84-401d-a36f-8de80fad9174",
   "metadata": {},
   "outputs": [],
   "source": [
    "# Regular imports\n",
    "from copy import deepcopy\n",
    "\n",
    "# Yaml loaders and dumpers\n",
    "from ruamel.yaml.main import \\\n",
    "    round_trip_load as yaml_load, \\\n",
    "    round_trip_dump as yaml_dump\n",
    "\n",
    "# Yaml commentary\n",
    "from ruamel.yaml.comments import \\\n",
    "    CommentedMap as OrderedDict, \\\n",
    "    CommentedSeq as OrderedList\n",
    "\n",
    "# Globals\n",
    "# Number of spaces for an indent \n",
    "INDENTATION = 2 \n",
    "# Used to reset comment objects\n",
    "tsRESET_COMMENT_LIST = [None, [], None, None]"
   ]
  },
  {
   "cell_type": "code",
   "execution_count": 8,
   "id": "fbf48797-1de6-4f5c-aee8-d6e6f096c4f6",
   "metadata": {},
   "outputs": [
    {
     "name": "stdout",
     "output_type": "stream",
     "text": [
      "# Shopping Lists for date: 23 Oct 2021\n",
      "        # Don't forget the eggs\n",
      "Shopping List:\n",
      "        # Don't forget the eggs\n",
      "  eggs:\n",
      "    type: free range\n",
      "    brand: Mr Tweedy\n",
      "    amount: 12\n",
      "  milk:\n",
      "    type: pasteurised\n",
      "    litres: 1.5\n",
      "    brands:\n",
      "      - FarmFresh\n",
      "      - FarmHouse gold\n",
      "      - Daisy The Cow\n",
      "\n"
     ]
    }
   ],
   "source": [
    "# Original object\n",
    "shopping_list = {\n",
    "    \"Shopping List\": {\n",
    "        \"eggs\": {\n",
    "            \"type\": \"free range\",\n",
    "            \"brand\": \"Mr Tweedy\",\n",
    "            \"amount\": 12\n",
    "        },\n",
    "        \"milk\": {\n",
    "            \"type\": \"pasteurised\",\n",
    "            \"litres\": 1.5,\n",
    "            \"brands\": [\n",
    "                \"FarmFresh\",\n",
    "                \"FarmHouse gold\",\n",
    "                \"Daisy The Cow\"\n",
    "            ]\n",
    "        }\n",
    "    }\n",
    "}\n",
    "\n",
    "# To yaml object\n",
    "shopping_list = yaml_load(yaml_dump(shopping_list), preserve_quotes=True)\n",
    "# Show object type\n",
    "\n",
    "\n",
    "shopping_list.yaml_set_start_comment(\"Shopping Lists for date: \"\n",
    "                                     \"23 Oct 2021\")\n",
    "\n",
    "\n",
    "object_depth = 4 # Shopping List\n",
    "\n",
    "shopping_list.get(\"Shopping List\").\\\n",
    "    yaml_set_comment_before_after_key(\n",
    "        key=\"eggs\",\n",
    "        before=\"Don't forget the eggs\",\n",
    "        indent=object_depth*INDENTATION\n",
    "    )\n",
    "\n",
    "shopping_list.yaml_set_comment_before_after_key(\n",
    "        key=\"Shopping List\",\n",
    "        before=\"Don't forget the eggs\",\n",
    "        indent=object_depth*INDENTATION\n",
    "    )\n",
    "\n",
    "print(yaml_dump(shopping_list, \n",
    "                indent=INDENTATION, \n",
    "                block_seq_indent=INDENTATION))"
   ]
  },
  {
   "cell_type": "code",
   "execution_count": null,
   "id": "02a8747f-fab1-4d0a-bde6-b5e32bd2d859",
   "metadata": {},
   "outputs": [],
   "source": []
  }
 ],
 "metadata": {
  "kernelspec": {
   "display_name": "Python 3 (ipykernel)",
   "language": "python",
   "name": "python3"
  },
  "language_info": {
   "codemirror_mode": {
    "name": "ipython",
    "version": 3
   },
   "file_extension": ".py",
   "mimetype": "text/x-python",
   "name": "python",
   "nbconvert_exporter": "python",
   "pygments_lexer": "ipython3",
   "version": "3.10.4"
  }
 },
 "nbformat": 4,
 "nbformat_minor": 5
}
